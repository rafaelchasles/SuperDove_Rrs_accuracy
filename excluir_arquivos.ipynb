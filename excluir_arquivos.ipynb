{
 "cells": [
  {
   "cell_type": "code",
   "execution_count": 3,
   "id": "0bb15c09",
   "metadata": {
    "scrolled": true
   },
   "outputs": [
    {
     "name": "stdout",
     "output_type": "stream",
     "text": [
      "Arquivo excluído: E:/rasters/Amz/PSR\\20210902_131748_31\\20210902_131748_31_2235_3B_AnalyticMS_SR_8b_clip.tif\n",
      "Arquivo excluído: E:/rasters/Amz/PSR\\20210902_131748_31\\20210902_131748_31_2235_3B_udm2_clip.tif\n",
      "Arquivo excluído: E:/rasters/Amz/PSR\\20210902_131750_53\\20210902_131750_53_2235_3B_AnalyticMS_SR_8b_clip.tif\n",
      "Arquivo excluído: E:/rasters/Amz/PSR\\20210902_131750_53\\20210902_131750_53_2235_3B_udm2_clip.tif\n",
      "Arquivo excluído: E:/rasters/Amz/PSR\\20210903_140347_47\\20210903_140347_47_227b_3B_AnalyticMS_SR_8b_clip.tif\n",
      "Arquivo excluído: E:/rasters/Amz/PSR\\20210903_140347_47\\20210903_140347_47_227b_3B_udm2_clip.tif\n",
      "Arquivo excluído: E:/rasters/Amz/PSR\\20210905_140440_74\\20210905_140440_74_2414_3B_AnalyticMS_SR_8b_clip.tif\n",
      "Arquivo excluído: E:/rasters/Amz/PSR\\20210905_140440_74\\20210905_140440_74_2414_3B_udm2_clip.tif\n",
      "Arquivo excluído: E:/rasters/Amz/PSR\\20210906_131223_57\\20210906_131223_57_2442_3B_AnalyticMS_SR_8b_clip.tif\n",
      "Arquivo excluído: E:/rasters/Amz/PSR\\20210906_131223_57\\20210906_131223_57_2442_3B_udm2_clip.tif\n",
      "Arquivo excluído: E:/rasters/Amz/PSR\\20210907_131123_36\\20210907_131123_36_2445_3B_AnalyticMS_SR_8b_clip.tif\n",
      "Arquivo excluído: E:/rasters/Amz/PSR\\20210907_131123_36\\20210907_131123_36_2445_3B_udm2_clip.tif\n",
      "Arquivo excluído: E:/rasters/Amz/PSR\\20210907_131144_39\\20210907_131144_39_2459_3B_AnalyticMS_SR_8b_clip.tif\n",
      "Arquivo excluído: E:/rasters/Amz/PSR\\20210907_131144_39\\20210907_131144_39_2459_3B_udm2_clip.tif\n",
      "Arquivo excluído: E:/rasters/Amz/PSR\\20210909_135955_61\\20210909_135955_61_2307_3B_AnalyticMS_SR_8b_clip.tif\n",
      "Arquivo excluído: E:/rasters/Amz/PSR\\20210909_135955_61\\20210909_135955_61_2307_3B_udm2_clip.tif\n",
      "Arquivo excluído: E:/rasters/Amz/PSR\\20210909_135957_92\\20210909_135957_92_2307_3B_AnalyticMS_SR_8b_clip.tif\n",
      "Arquivo excluído: E:/rasters/Amz/PSR\\20210909_135957_92\\20210909_135957_92_2307_3B_udm2_clip.tif\n",
      "Arquivo excluído: E:/rasters/Amz/PSR\\20210910_131225_65\\20210910_131225_65_245c_3B_AnalyticMS_SR_8b_clip.tif\n",
      "Arquivo excluído: E:/rasters/Amz/PSR\\20210910_131225_65\\20210910_131225_65_245c_3B_udm2_clip.tif\n",
      "Arquivo excluído: E:/rasters/Amz/PSR\\20220316_130636_03\\20220316_130636_03_2449_3B_AnalyticMS_SR_8b_clip.tif\n",
      "Arquivo excluído: E:/rasters/Amz/PSR\\20220316_130636_03\\20220316_130636_03_2449_3B_udm2_clip.tif\n",
      "Arquivo excluído: E:/rasters/Amz/PSR\\20220316_130638_33\\20220316_130638_33_2449_3B_AnalyticMS_SR_8b_clip.tif\n",
      "Arquivo excluído: E:/rasters/Amz/PSR\\20220316_130638_33\\20220316_130638_33_2449_3B_udm2_clip.tif\n",
      "Arquivo excluído: E:/rasters/Amz/PSR\\20220316_140013_81\\20220316_140013_81_227c_3B_AnalyticMS_SR_8b_clip.tif\n",
      "Arquivo excluído: E:/rasters/Amz/PSR\\20220316_140013_81\\20220316_140013_81_227c_3B_udm2_clip.tif\n",
      "Arquivo excluído: E:/rasters/Amz/PSR\\20220316_140016_11\\20220316_140016_11_227c_3B_AnalyticMS_SR_8b_clip.tif\n",
      "Arquivo excluído: E:/rasters/Amz/PSR\\20220316_140016_11\\20220316_140016_11_227c_3B_udm2_clip.tif\n",
      "Arquivo excluído: E:/rasters/Amz/PSR\\20220320_140028_94\\20220320_140028_94_2274_3B_AnalyticMS_SR_8b_clip.tif\n",
      "Arquivo excluído: E:/rasters/Amz/PSR\\20220320_140028_94\\20220320_140028_94_2274_3B_udm2_clip.tif\n",
      "Arquivo excluído: E:/rasters/Amz/PSR\\20220320_140031_24\\20220320_140031_24_2274_3B_AnalyticMS_SR_8b_clip.tif\n",
      "Arquivo excluído: E:/rasters/Amz/PSR\\20220320_140031_24\\20220320_140031_24_2274_3B_udm2_clip.tif\n",
      "Arquivo excluído: E:/rasters/Amz/PSR\\20220322_130806_37\\20220322_130806_37_245a_3B_AnalyticMS_SR_8b_clip.tif\n",
      "Arquivo excluído: E:/rasters/Amz/PSR\\20220322_130806_37\\20220322_130806_37_245a_3B_udm2_clip.tif\n",
      "Arquivo excluído: E:/rasters/Amz/PSR\\20220322_130808_67\\20220322_130808_67_245a_3B_AnalyticMS_SR_8b_clip.tif\n",
      "Arquivo excluído: E:/rasters/Amz/PSR\\20220322_130808_67\\20220322_130808_67_245a_3B_udm2_clip.tif\n",
      "Arquivo excluído: E:/rasters/Amz/PSR\\20220322_134051_07\\20220322_134051_07_2481_3B_AnalyticMS_SR_8b_clip.tif\n",
      "Arquivo excluído: E:/rasters/Amz/PSR\\20220322_134051_07\\20220322_134051_07_2481_3B_udm2_clip.tif\n",
      "Arquivo excluído: E:/rasters/Amz/PSR\\20220322_134053_40\\20220322_134053_40_2481_3B_AnalyticMS_SR_8b_clip.tif\n",
      "Arquivo excluído: E:/rasters/Amz/PSR\\20220322_134053_40\\20220322_134053_40_2481_3B_udm2_clip.tif\n"
     ]
    }
   ],
   "source": [
    "import os\n",
    "import re\n",
    "\n",
    "# Função para percorrer as pastas e excluir os arquivos\n",
    "def percorrer_pastas(pasta):\n",
    "    # Lista todos os arquivos e pastas no diretório atual\n",
    "    for item in os.listdir(pasta):\n",
    "        # Obtém o caminho completo do item\n",
    "        caminho = os.path.join(pasta, item)\n",
    "\n",
    "        # Verifica se é um arquivo\n",
    "        if os.path.isfile(caminho):\n",
    "            # Verifica a extensão do arquivo\n",
    "            if caminho.endswith('_clip.tif'): # or re.search('rhot', item):\n",
    "                # Exclui o arquivo\n",
    "                os.remove(caminho)\n",
    "                print(f\"Arquivo excluído: {caminho}\")\n",
    "        # Verifica se é uma pasta\n",
    "        elif os.path.isdir(caminho):\n",
    "            # Chama a função recursivamente para percorrer a subpasta\n",
    "            percorrer_pastas(caminho)\n",
    "\n",
    "# Pasta inicial para percorrer\n",
    "pasta_inicial = 'E:/rasters/Amz/PSR' \n",
    "\n",
    "# Chama a função para percorrer as pastas e excluir os arquivos\n",
    "percorrer_pastas(pasta_inicial)"
   ]
  },
  {
   "cell_type": "code",
   "execution_count": null,
   "id": "bd289922",
   "metadata": {},
   "outputs": [],
   "source": [
    "import os\n",
    "import re\n",
    "\n",
    "# Função para percorrer as pastas e excluir os arquivos\n",
    "def percorrer_pastas(pasta):\n",
    "    # Lista todos os arquivos e pastas no diretório atual\n",
    "    for item in os.listdir(pasta):\n",
    "        # Obtém o caminho completo do item\n",
    "        caminho = os.path.join(pasta, item)\n",
    "\n",
    "        # Verifica se é um arquivo\n",
    "        if os.path.isfile(caminho):\n",
    "            # Verifica a extensão do arquivo\n",
    "            if re.search('PlanetScope', item):\n",
    "                # Exclui o arquivo\n",
    "                os.remove(caminho)\n",
    "                print(f\"Arquivo excluído: {caminho}\")\n",
    "        # Verifica se é uma pasta\n",
    "        elif os.path.isdir(caminho):\n",
    "            # Chama a função recursivamente para percorrer a subpasta\n",
    "            percorrer_pastas(caminho)\n",
    "\n",
    "# Pasta inicial para percorrer\n",
    "pasta_inicial = 'E:/rasters/DSF_glint1' \n",
    "\n",
    "# Chama a função para percorrer as pastas e excluir os arquivos\n",
    "percorrer_pastas(pasta_inicial)"
   ]
  },
  {
   "cell_type": "code",
   "execution_count": null,
   "id": "324c8157",
   "metadata": {},
   "outputs": [],
   "source": []
  }
 ],
 "metadata": {
  "kernelspec": {
   "display_name": "Python 3 (ipykernel)",
   "language": "python",
   "name": "python3"
  },
  "language_info": {
   "codemirror_mode": {
    "name": "ipython",
    "version": 3
   },
   "file_extension": ".py",
   "mimetype": "text/x-python",
   "name": "python",
   "nbconvert_exporter": "python",
   "pygments_lexer": "ipython3",
   "version": "3.11.3"
  }
 },
 "nbformat": 4,
 "nbformat_minor": 5
}
