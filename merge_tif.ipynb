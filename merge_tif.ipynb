{
 "cells": [
  {
   "cell_type": "code",
   "execution_count": 1,
   "id": "ae581213",
   "metadata": {},
   "outputs": [],
   "source": [
    "import matplotlib\n",
    "import rasterio\n",
    "from rasterio.merge import merge\n",
    "from rasterio.plot import show\n",
    "import os\n",
    "from pathlib import Path"
   ]
  },
  {
   "cell_type": "code",
   "execution_count": null,
   "id": "a69c8bbf",
   "metadata": {},
   "outputs": [
    {
     "name": "stdout",
     "output_type": "stream",
     "text": [
      "Mosaico salvo como 20201108_132406_04_merge.tif na pasta E:/rasters/DSF\\20201108_132406_04\n",
      "Mosaico salvo como 20201108_132408_32_merge.tif na pasta E:/rasters/DSF\\20201108_132408_32\n",
      "Mosaico salvo como 20201113_132045_16_merge.tif na pasta E:/rasters/DSF\\20201113_132045_16\n",
      "Mosaico salvo como 20201115_123328_47_merge.tif na pasta E:/rasters/DSF\\20201115_123328_47\n",
      "Mosaico salvo como 20201115_123330_69_merge.tif na pasta E:/rasters/DSF\\20201115_123330_69\n",
      "Mosaico salvo como 20201115_123332_92_merge.tif na pasta E:/rasters/DSF\\20201115_123332_92\n",
      "Mosaico salvo como 20210719_122424_51_merge.tif na pasta E:/rasters/DSF\\20210719_122424_51\n",
      "Mosaico salvo como 20210719_122426_99_merge.tif na pasta E:/rasters/DSF\\20210719_122426_99\n",
      "Mosaico salvo como 20210719_122429_47_merge.tif na pasta E:/rasters/DSF\\20210719_122429_47\n",
      "Mosaico salvo como 20210719_131710_60_merge.tif na pasta E:/rasters/DSF\\20210719_131710_60\n",
      "Mosaico salvo como 20210720_123803_55_merge.tif na pasta E:/rasters/DSF\\20210720_123803_55\n",
      "Mosaico salvo como 20210720_123805_85_merge.tif na pasta E:/rasters/DSF\\20210720_123805_85\n",
      "Mosaico salvo como 20210720_123808_14_merge.tif na pasta E:/rasters/DSF\\20210720_123808_14\n",
      "Mosaico salvo como 20210721_122854_05_merge.tif na pasta E:/rasters/DSF\\20210721_122854_05\n",
      "Mosaico salvo como 20210721_123718_01_merge.tif na pasta E:/rasters/DSF\\20210721_123718_01\n",
      "Mosaico salvo como 20210722_122743_76_merge.tif na pasta E:/rasters/DSF\\20210722_122743_76\n",
      "Mosaico salvo como 20210722_122746_07_merge.tif na pasta E:/rasters/DSF\\20210722_122746_07\n",
      "Mosaico salvo como 20210722_122748_37_merge.tif na pasta E:/rasters/DSF\\20210722_122748_37\n",
      "Mosaico salvo como 20210723_122458_64_merge.tif na pasta E:/rasters/DSF\\20210723_122458_64\n",
      "Mosaico salvo como 20210723_122546_57_merge.tif na pasta E:/rasters/DSF\\20210723_122546_57\n",
      "Mosaico salvo como 20210723_122549_05_merge.tif na pasta E:/rasters/DSF\\20210723_122549_05\n",
      "Mosaico salvo como 20210723_122551_53_merge.tif na pasta E:/rasters/DSF\\20210723_122551_53\n",
      "Mosaico salvo como 20210723_131457_66_merge.tif na pasta E:/rasters/DSF\\20210723_131457_66\n",
      "Mosaico salvo como 20210723_131459_96_merge.tif na pasta E:/rasters/DSF\\20210723_131459_96\n",
      "Mosaico salvo como 20210723_131502_27_merge.tif na pasta E:/rasters/DSF\\20210723_131502_27\n",
      "Mosaico salvo como 20210723_131633_78_merge.tif na pasta E:/rasters/DSF\\20210723_131633_78\n",
      "Mosaico salvo como 20210723_131636_07_merge.tif na pasta E:/rasters/DSF\\20210723_131636_07\n",
      "Mosaico salvo como 20210723_131638_36_merge.tif na pasta E:/rasters/DSF\\20210723_131638_36\n",
      "Mosaico salvo como 20210724_122829_28_merge.tif na pasta E:/rasters/DSF\\20210724_122829_28\n",
      "Mosaico salvo como 20210724_122831_35_merge.tif na pasta E:/rasters/DSF\\20210724_122831_35\n",
      "Mosaico salvo como 20210724_122924_17_merge.tif na pasta E:/rasters/DSF\\20210724_122924_17\n",
      "Mosaico salvo como 20210724_122926_65_merge.tif na pasta E:/rasters/DSF\\20210724_122926_65\n",
      "Mosaico salvo como 20210805_122803_43_merge.tif na pasta E:/rasters/DSF\\20210805_122803_43\n",
      "Mosaico salvo como 20210805_131622_05_merge.tif na pasta E:/rasters/DSF\\20210805_131622_05\n",
      "Mosaico salvo como 20210805_131624_36_merge.tif na pasta E:/rasters/DSF\\20210805_131624_36\n",
      "Mosaico salvo como 20210808_122839_34_merge.tif na pasta E:/rasters/DSF\\20210808_122839_34\n",
      "Mosaico salvo como 20210808_122841_64_merge.tif na pasta E:/rasters/DSF\\20210808_122841_64\n",
      "Mosaico salvo como 20210808_122843_94_merge.tif na pasta E:/rasters/DSF\\20210808_122843_94\n",
      "Mosaico salvo como 20210808_122844_49_merge.tif na pasta E:/rasters/DSF\\20210808_122844_49\n",
      "Mosaico salvo como 20210808_122846_79_merge.tif na pasta E:/rasters/DSF\\20210808_122846_79\n"
     ]
    }
   ],
   "source": [
    "# Diretório raiz onde estão as pastas com os arquivos TIFF\n",
    "pasta_raiz = 'E:/rasters/DSF'\n",
    "\n",
    "# Percorre todas as pastas e subpastas do diretório raiz\n",
    "for dirpath, dirnames, filenames in os.walk(pasta_raiz):\n",
    "    # Filtra apenas os arquivos TIFF\n",
    "    arquivos_tif = [f for f in filenames if f.endswith('.tif')]\n",
    "    \n",
    "    # Verifica se existem arquivos TIFF na pasta atual\n",
    "    if len(arquivos_tif) > 0:\n",
    "        # Cria caminho para o arquivo final na pasta atual\n",
    "        nome_arquivo_final = f'{Path(dirpath).name}_merge.tif'\n",
    "        caminho_arquivo_final = Path(dirpath) / nome_arquivo_final\n",
    "        \n",
    "        # Abrindo os arquivos TIFF\n",
    "        arquivos_abertos = [rasterio.open(str(Path(dirpath) / tif)) for tif in arquivos_tif]\n",
    "\n",
    "        # Obtendo informações do primeiro arquivo para criar o arquivo final\n",
    "        perfil = arquivos_abertos[0].profile\n",
    "        perfil.update(count=len(arquivos_abertos))\n",
    "\n",
    "        # Criando o arquivo final para escrita\n",
    "        with rasterio.open(str(caminho_arquivo_final), 'w', **perfil) as destino:\n",
    "            # Iterando sobre cada banda\n",
    "            for i, src in enumerate(arquivos_abertos, start=1):\n",
    "                # Copiando as informações da banda atual para o arquivo final\n",
    "                perfil_banda = src.profile\n",
    "                perfil_banda.update(dtype=perfil['dtype'], count=1)\n",
    "\n",
    "                # Lendo os dados da banda atual e escrevendo no arquivo final\n",
    "                dados_banda = src.read(1)\n",
    "                destino.write(dados_banda, i)\n",
    "\n",
    "        print(f\"Mosaico salvo como {nome_arquivo_final} na pasta {dirpath}\")\n"
   ]
  },
  {
   "cell_type": "code",
   "execution_count": null,
   "id": "ce8e14f8",
   "metadata": {},
   "outputs": [],
   "source": []
  }
 ],
 "metadata": {
  "kernelspec": {
   "display_name": "Python 3 (ipykernel)",
   "language": "python",
   "name": "python3"
  },
  "language_info": {
   "codemirror_mode": {
    "name": "ipython",
    "version": 3
   },
   "file_extension": ".py",
   "mimetype": "text/x-python",
   "name": "python",
   "nbconvert_exporter": "python",
   "pygments_lexer": "ipython3",
   "version": "3.9.12"
  }
 },
 "nbformat": 4,
 "nbformat_minor": 5
}
