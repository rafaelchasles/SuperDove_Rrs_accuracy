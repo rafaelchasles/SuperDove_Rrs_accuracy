{
 "cells": [
  {
   "cell_type": "code",
   "execution_count": null,
   "id": "7f1f7945",
   "metadata": {},
   "outputs": [],
   "source": [
    "!pip install pandas"
   ]
  },
  {
   "cell_type": "code",
   "execution_count": 3,
   "id": "1aca11a7",
   "metadata": {},
   "outputs": [],
   "source": [
    "import os\n",
    "import pandas as pd\n",
    "\n",
    "# Ler o arquivo \"dados6_novas_colunas.csv\"\n",
    "dados_path = \"D:/mestrado/dissertacao/dados/tabelas/resultados/Amz1/DSF_glint_stats_xml.csv\"\n",
    "df = pd.read_csv(dados_path)\n",
    "\n",
    "# Percorrer todas as pastas e arquivos \"SD_simulated.csv\"\n",
    "sd_files_to_concat = []\n",
    "sd_root_path = \"D:/mestrado/dissertacao/dados/tabelas/insitu/Amz\"\n",
    "\n",
    "for root, dirs, files in os.walk(sd_root_path):\n",
    "    for file in files:\n",
    "        if file.endswith(\"SD_simulated.csv\"):\n",
    "            file_path = os.path.join(root, file)\n",
    "            # Adicionar o arquivo à lista de arquivos a serem concatenados\n",
    "            sd_files_to_concat.append(pd.read_csv(file_path))\n",
    "\n",
    "# Concatenar todos os dataframes pela coluna \"estacoes_id\"\n",
    "sd_df = pd.concat(sd_files_to_concat, axis=0, ignore_index=True, sort=False)\n",
    "\n",
    "# Juntar os dataframes pela coluna \"estacoes_id\"\n",
    "merged_df = pd.merge(df, sd_df, on=\"estacoes_id\")\n",
    "\n",
    "# Salvar o resultado em um arquivo CSV\n",
    "merged_df.to_csv(\"D:/mestrado/dissertacao/dados/tabelas/resultados/Amz1/DSF_glint_stats_xml_concat.csv\", index=False)\n"
   ]
  },
  {
   "cell_type": "code",
   "execution_count": null,
   "id": "c138894e",
   "metadata": {},
   "outputs": [],
   "source": []
  }
 ],
 "metadata": {
  "kernelspec": {
   "display_name": "Python 3 (ipykernel)",
   "language": "python",
   "name": "python3"
  },
  "language_info": {
   "codemirror_mode": {
    "name": "ipython",
    "version": 3
   },
   "file_extension": ".py",
   "mimetype": "text/x-python",
   "name": "python",
   "nbconvert_exporter": "python",
   "pygments_lexer": "ipython3",
   "version": "3.11.3"
  }
 },
 "nbformat": 4,
 "nbformat_minor": 5
}
