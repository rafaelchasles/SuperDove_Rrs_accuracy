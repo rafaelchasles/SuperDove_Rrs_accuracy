{
 "cells": [
  {
   "cell_type": "code",
   "execution_count": 1,
   "id": "d4e1d53d",
   "metadata": {},
   "outputs": [],
   "source": [
    "import sys, os, time\n",
    "user_home = os.path.expanduser(\"~\")\n",
    "sys.path.append(user_home+\"/Users/rafae/acolite\")\n",
    "import acolite as ac"
   ]
  },
  {
   "cell_type": "code",
   "execution_count": 4,
   "id": "3748b9cd",
   "metadata": {},
   "outputs": [
    {
     "name": "stdout",
     "output_type": "stream",
     "text": [
      "Running ACOLITE processing - Generic GitHub Clone c2023-04-18T21:36:20\n",
      "Python - win32 - 3.11.3 | packaged by conda-forge | (main, Apr  6 2023, 08:50:54) [MSC v.1934 64 bit (AMD64)]\n",
      "Platform - Windows 10 - AMD64 - 10.0.22621\n",
      "Run ID - 20230426_170557\n",
      "Path D:/mestrado/dissertacao/dados/rasters/TOA/20201108_132406_04.tif does not exist.\n",
      "Not removing text files as \"delete_acolite_run_text_files\" is not in settings.\n",
      "Not testing output directory as \"delete_acolite_output_directory\" is not in settings.\n"
     ]
    },
    {
     "data": {
      "text/plain": [
       "{}"
      ]
     },
     "execution_count": 4,
     "metadata": {},
     "output_type": "execute_result"
    }
   ],
   "source": [
    "settings = {\"inputfile\":\"D:/mestrado/dissertacao/dados/rasters/TOA/20201108_132406_04.tif\",\n",
    "\"output\":\"D:/mestrado/dissertacao/dados/rasters/TOA/test_python\"}\n",
    "\n",
    "ac.acolite.acolite_run(settings=settings)"
   ]
  }
 ],
 "metadata": {
  "kernelspec": {
   "display_name": "Python 3 (ipykernel)",
   "language": "python",
   "name": "python3"
  },
  "language_info": {
   "codemirror_mode": {
    "name": "ipython",
    "version": 3
   },
   "file_extension": ".py",
   "mimetype": "text/x-python",
   "name": "python",
   "nbconvert_exporter": "python",
   "pygments_lexer": "ipython3",
   "version": "3.11.3"
  }
 },
 "nbformat": 4,
 "nbformat_minor": 5
}
