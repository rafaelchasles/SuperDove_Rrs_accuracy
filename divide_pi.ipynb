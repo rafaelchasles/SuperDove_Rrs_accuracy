{
 "cells": [
  {
   "cell_type": "code",
   "execution_count": 2,
   "id": "6236220c",
   "metadata": {
    "collapsed": true
   },
   "outputs": [
    {
     "name": "stdout",
     "output_type": "stream",
     "text": [
      "Collecting rasterio\n",
      "  Downloading rasterio-1.3.8-cp311-cp311-win_amd64.whl (22.9 MB)\n",
      "                                              0.0/22.9 MB ? eta -:--:--\n",
      "     -                                        1.1/22.9 MB 35.3 MB/s eta 0:00:01\n",
      "     ----                                     2.8/22.9 MB 44.4 MB/s eta 0:00:01\n",
      "     --------                                 4.9/22.9 MB 44.4 MB/s eta 0:00:01\n",
      "     -----------                              6.4/22.9 MB 45.3 MB/s eta 0:00:01\n",
      "     -------------                            8.0/22.9 MB 42.5 MB/s eta 0:00:01\n",
      "     ----------------                         9.5/22.9 MB 40.3 MB/s eta 0:00:01\n",
      "     -----------------                        9.9/22.9 MB 37.3 MB/s eta 0:00:01\n",
      "     --------------------                    11.8/22.9 MB 36.4 MB/s eta 0:00:01\n",
      "     -----------------------                 13.7/22.9 MB 38.5 MB/s eta 0:00:01\n",
      "     --------------------------              15.3/22.9 MB 36.3 MB/s eta 0:00:01\n",
      "     ----------------------------            16.9/22.9 MB 36.4 MB/s eta 0:00:01\n",
      "     -------------------------------         18.4/22.9 MB 38.5 MB/s eta 0:00:01\n",
      "     ---------------------------------       19.9/22.9 MB 40.9 MB/s eta 0:00:01\n",
      "     -----------------------------------     20.9/22.9 MB 40.9 MB/s eta 0:00:01\n",
      "     -----------------------------------     21.1/22.9 MB 34.4 MB/s eta 0:00:01\n",
      "     --------------------------------------  22.6/22.9 MB 32.7 MB/s eta 0:00:01\n",
      "     --------------------------------------  22.9/22.9 MB 32.7 MB/s eta 0:00:01\n",
      "     --------------------------------------- 22.9/22.9 MB 27.3 MB/s eta 0:00:00\n",
      "Collecting affine (from rasterio)\n",
      "  Downloading affine-2.4.0-py3-none-any.whl (15 kB)\n",
      "Requirement already satisfied: attrs in c:\\users\\rafael\\anaconda3\\lib\\site-packages (from rasterio) (22.1.0)\n",
      "Requirement already satisfied: certifi in c:\\users\\rafael\\anaconda3\\lib\\site-packages (from rasterio) (2023.5.7)\n",
      "Requirement already satisfied: click>=4.0 in c:\\users\\rafael\\anaconda3\\lib\\site-packages (from rasterio) (8.0.4)\n",
      "Collecting cligj>=0.5 (from rasterio)\n",
      "  Downloading cligj-0.7.2-py3-none-any.whl (7.1 kB)\n",
      "Requirement already satisfied: numpy>=1.18 in c:\\users\\rafael\\anaconda3\\lib\\site-packages (from rasterio) (1.24.3)\n",
      "Collecting snuggs>=1.4.1 (from rasterio)\n",
      "  Downloading snuggs-1.4.7-py3-none-any.whl (5.4 kB)\n",
      "Collecting click-plugins (from rasterio)\n",
      "  Downloading click_plugins-1.1.1-py2.py3-none-any.whl (7.5 kB)\n",
      "Requirement already satisfied: setuptools in c:\\users\\rafael\\anaconda3\\lib\\site-packages (from rasterio) (67.8.0)\n",
      "Requirement already satisfied: colorama in c:\\users\\rafael\\anaconda3\\lib\\site-packages (from click>=4.0->rasterio) (0.4.6)\n",
      "Requirement already satisfied: pyparsing>=2.1.6 in c:\\users\\rafael\\anaconda3\\lib\\site-packages (from snuggs>=1.4.1->rasterio) (3.0.9)\n",
      "Installing collected packages: snuggs, affine, cligj, click-plugins, rasterio\n",
      "Successfully installed affine-2.4.0 click-plugins-1.1.1 cligj-0.7.2 rasterio-1.3.8 snuggs-1.4.7\n",
      "Requirement already satisfied: numpy in c:\\users\\rafael\\anaconda3\\lib\\site-packages (1.24.3)\n"
     ]
    }
   ],
   "source": [
    "!pip install rasterio\n",
    "!pip install numpy"
   ]
  },
  {
   "cell_type": "code",
   "execution_count": 5,
   "id": "77e91202",
   "metadata": {},
   "outputs": [
    {
     "name": "stdout",
     "output_type": "stream",
     "text": [
      "Bandas divididas salvas em E:/rasters/Amz/PSR\\20210902_131748_31\\20210902_131748_31_2235_3B_AnalyticMS_SR_8b_clip_scaled_pi.tif\n",
      "Bandas divididas salvas em E:/rasters/Amz/PSR\\20210902_131750_53\\20210902_131750_53_2235_3B_AnalyticMS_SR_8b_clip_scaled_pi.tif\n",
      "Bandas divididas salvas em E:/rasters/Amz/PSR\\20210903_140347_47\\20210903_140347_47_227b_3B_AnalyticMS_SR_8b_clip_scaled_pi.tif\n",
      "Bandas divididas salvas em E:/rasters/Amz/PSR\\20210905_140440_74\\20210905_140440_74_2414_3B_AnalyticMS_SR_8b_clip_scaled_pi.tif\n",
      "Bandas divididas salvas em E:/rasters/Amz/PSR\\20210906_131223_57\\20210906_131223_57_2442_3B_AnalyticMS_SR_8b_clip_scaled_pi.tif\n",
      "Bandas divididas salvas em E:/rasters/Amz/PSR\\20210907_131123_36\\20210907_131123_36_2445_3B_AnalyticMS_SR_8b_clip_scaled_pi.tif\n",
      "Bandas divididas salvas em E:/rasters/Amz/PSR\\20210907_131144_39\\20210907_131144_39_2459_3B_AnalyticMS_SR_8b_clip_scaled_pi.tif\n",
      "Bandas divididas salvas em E:/rasters/Amz/PSR\\20210909_135955_61\\20210909_135955_61_2307_3B_AnalyticMS_SR_8b_clip_scaled_pi.tif\n",
      "Bandas divididas salvas em E:/rasters/Amz/PSR\\20210909_135957_92\\20210909_135957_92_2307_3B_AnalyticMS_SR_8b_clip_scaled_pi.tif\n",
      "Bandas divididas salvas em E:/rasters/Amz/PSR\\20210910_131225_65\\20210910_131225_65_245c_3B_AnalyticMS_SR_8b_clip_scaled_pi.tif\n",
      "Bandas divididas salvas em E:/rasters/Amz/PSR\\20220316_130636_03\\20220316_130636_03_2449_3B_AnalyticMS_SR_8b_clip_scaled_pi.tif\n",
      "Bandas divididas salvas em E:/rasters/Amz/PSR\\20220316_130638_33\\20220316_130638_33_2449_3B_AnalyticMS_SR_8b_clip_scaled_pi.tif\n",
      "Bandas divididas salvas em E:/rasters/Amz/PSR\\20220316_140013_81\\20220316_140013_81_227c_3B_AnalyticMS_SR_8b_clip_scaled_pi.tif\n",
      "Bandas divididas salvas em E:/rasters/Amz/PSR\\20220316_140016_11\\20220316_140016_11_227c_3B_AnalyticMS_SR_8b_clip_scaled_pi.tif\n",
      "Bandas divididas salvas em E:/rasters/Amz/PSR\\20220320_140028_94\\20220320_140028_94_2274_3B_AnalyticMS_SR_8b_clip_scaled_pi.tif\n",
      "Bandas divididas salvas em E:/rasters/Amz/PSR\\20220320_140031_24\\20220320_140031_24_2274_3B_AnalyticMS_SR_8b_clip_scaled_pi.tif\n",
      "Bandas divididas salvas em E:/rasters/Amz/PSR\\20220322_130806_37\\20220322_130806_37_245a_3B_AnalyticMS_SR_8b_clip_scaled_pi.tif\n",
      "Bandas divididas salvas em E:/rasters/Amz/PSR\\20220322_130808_67\\20220322_130808_67_245a_3B_AnalyticMS_SR_8b_clip_scaled_pi.tif\n",
      "Bandas divididas salvas em E:/rasters/Amz/PSR\\20220322_134051_07\\20220322_134051_07_2481_3B_AnalyticMS_SR_8b_clip_scaled_pi.tif\n",
      "Bandas divididas salvas em E:/rasters/Amz/PSR\\20220322_134053_40\\20220322_134053_40_2481_3B_AnalyticMS_SR_8b_clip_scaled_pi.tif\n",
      "Processamento concluído!\n"
     ]
    }
   ],
   "source": [
    "## # scrip para Divisão das imagens por pi (SR para Rrs)\n",
    "\n",
    "import glob\n",
    "import os\n",
    "import rasterio\n",
    "import numpy as np\n",
    "\n",
    "# Diretório raiz que contém as pastas\n",
    "diretorio_raiz = 'E:/rasters/Amz/PSR'\n",
    "\n",
    "# Padrão do nome dos arquivos a serem processados\n",
    "padrao_nome_arquivo = '*_scaled.tif'\n",
    "\n",
    "# Percorrendo todas as pastas e arquivos correspondentes\n",
    "for pasta in glob.glob(os.path.join(diretorio_raiz, '*')):\n",
    "    arquivos_merge = glob.glob(os.path.join(pasta, padrao_nome_arquivo))\n",
    "\n",
    "    # Processando cada arquivo de merge na pasta\n",
    "    for arquivo_merge in arquivos_merge:\n",
    "        # Carregando as bandas da imagem de satélite\n",
    "        bandas = []\n",
    "        with rasterio.open(arquivo_merge) as src:\n",
    "            for i in range(src.count):\n",
    "                banda = src.read(i + 1)\n",
    "                banda_dividida = banda / np.pi  # Divisão por pi\n",
    "                bandas.append(banda_dividida)\n",
    "\n",
    "        # Obtendo os metadados de uma das bandas\n",
    "        with rasterio.open(arquivo_merge) as src:\n",
    "            profile = src.profile\n",
    "\n",
    "        # Atualizando o número de bandas no perfil\n",
    "        profile.update(count=len(bandas))\n",
    "\n",
    "        # Gerando o nome do arquivo de saída\n",
    "        nome_arquivo_saida = os.path.splitext(arquivo_merge)[0] + '_pi.tif'\n",
    "\n",
    "        # Salvando as bandas divididas em um único arquivo\n",
    "        with rasterio.open(nome_arquivo_saida, 'w', **profile) as dst:\n",
    "            for i, banda_dividida in enumerate(bandas):\n",
    "                nome_banda = f'banda_{i+1}_pi'\n",
    "                dst.write(banda_dividida, i + 1)\n",
    "                dst.set_band_description(i + 1, nome_banda)\n",
    "\n",
    "        print(f\"Bandas divididas salvas em {nome_arquivo_saida}\")\n",
    "\n",
    "print(\"Processamento concluído!\")"
   ]
  },
  {
   "cell_type": "code",
   "execution_count": null,
   "id": "38f76adc",
   "metadata": {},
   "outputs": [],
   "source": []
  }
 ],
 "metadata": {
  "kernelspec": {
   "display_name": "Python 3 (ipykernel)",
   "language": "python",
   "name": "python3"
  },
  "language_info": {
   "codemirror_mode": {
    "name": "ipython",
    "version": 3
   },
   "file_extension": ".py",
   "mimetype": "text/x-python",
   "name": "python",
   "nbconvert_exporter": "python",
   "pygments_lexer": "ipython3",
   "version": "3.11.3"
  }
 },
 "nbformat": 4,
 "nbformat_minor": 5
}
