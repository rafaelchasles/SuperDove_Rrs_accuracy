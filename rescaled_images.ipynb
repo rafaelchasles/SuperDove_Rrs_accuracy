{
 "cells": [
  {
   "cell_type": "code",
   "execution_count": 1,
   "id": "39410257",
   "metadata": {
    "collapsed": true
   },
   "outputs": [
    {
     "name": "stdout",
     "output_type": "stream",
     "text": [
      "Requirement already satisfied: rasterio in c:\\users\\rafael\\anaconda3\\lib\\site-packages (1.3.8)\n",
      "Requirement already satisfied: affine in c:\\users\\rafael\\anaconda3\\lib\\site-packages (from rasterio) (2.4.0)\n",
      "Requirement already satisfied: attrs in c:\\users\\rafael\\anaconda3\\lib\\site-packages (from rasterio) (22.1.0)\n",
      "Requirement already satisfied: certifi in c:\\users\\rafael\\anaconda3\\lib\\site-packages (from rasterio) (2023.5.7)\n",
      "Requirement already satisfied: click>=4.0 in c:\\users\\rafael\\anaconda3\\lib\\site-packages (from rasterio) (8.0.4)\n",
      "Requirement already satisfied: cligj>=0.5 in c:\\users\\rafael\\anaconda3\\lib\\site-packages (from rasterio) (0.7.2)\n",
      "Requirement already satisfied: numpy>=1.18 in c:\\users\\rafael\\anaconda3\\lib\\site-packages (from rasterio) (1.24.3)\n",
      "Requirement already satisfied: snuggs>=1.4.1 in c:\\users\\rafael\\anaconda3\\lib\\site-packages (from rasterio) (1.4.7)\n",
      "Requirement already satisfied: click-plugins in c:\\users\\rafael\\anaconda3\\lib\\site-packages (from rasterio) (1.1.1)\n",
      "Requirement already satisfied: setuptools in c:\\users\\rafael\\anaconda3\\lib\\site-packages (from rasterio) (67.8.0)\n",
      "Requirement already satisfied: colorama in c:\\users\\rafael\\anaconda3\\lib\\site-packages (from click>=4.0->rasterio) (0.4.6)\n",
      "Requirement already satisfied: pyparsing>=2.1.6 in c:\\users\\rafael\\anaconda3\\lib\\site-packages (from snuggs>=1.4.1->rasterio) (3.0.9)\n",
      "Requirement already satisfied: numpy in c:\\users\\rafael\\anaconda3\\lib\\site-packages (1.24.3)\n"
     ]
    }
   ],
   "source": [
    "!pip install rasterio\n",
    "!pip install numpy"
   ]
  },
  {
   "cell_type": "code",
   "execution_count": 6,
   "id": "9ee715bd",
   "metadata": {},
   "outputs": [
    {
     "name": "stdout",
     "output_type": "stream",
     "text": [
      "Bandas multiplicadas salvas em E:/rasters/Amz/PSR\\20210902_131748_31\\20210902_131748_31_2235_3B_AnalyticMS_SR_8b_clip_scaled.tif\n",
      "Bandas multiplicadas salvas em E:/rasters/Amz/PSR\\20210902_131750_53\\20210902_131750_53_2235_3B_AnalyticMS_SR_8b_clip_scaled.tif\n",
      "Bandas multiplicadas salvas em E:/rasters/Amz/PSR\\20210903_140347_47\\20210903_140347_47_227b_3B_AnalyticMS_SR_8b_clip_scaled.tif\n",
      "Bandas multiplicadas salvas em E:/rasters/Amz/PSR\\20210905_140440_74\\20210905_140440_74_2414_3B_AnalyticMS_SR_8b_clip_scaled.tif\n",
      "Bandas multiplicadas salvas em E:/rasters/Amz/PSR\\20210906_131223_57\\20210906_131223_57_2442_3B_AnalyticMS_SR_8b_clip_scaled.tif\n",
      "Bandas multiplicadas salvas em E:/rasters/Amz/PSR\\20210907_131123_36\\20210907_131123_36_2445_3B_AnalyticMS_SR_8b_clip_scaled.tif\n",
      "Bandas multiplicadas salvas em E:/rasters/Amz/PSR\\20210907_131144_39\\20210907_131144_39_2459_3B_AnalyticMS_SR_8b_clip_scaled.tif\n",
      "Bandas multiplicadas salvas em E:/rasters/Amz/PSR\\20210909_135955_61\\20210909_135955_61_2307_3B_AnalyticMS_SR_8b_clip_scaled.tif\n",
      "Bandas multiplicadas salvas em E:/rasters/Amz/PSR\\20210909_135957_92\\20210909_135957_92_2307_3B_AnalyticMS_SR_8b_clip_scaled.tif\n",
      "Bandas multiplicadas salvas em E:/rasters/Amz/PSR\\20210910_131225_65\\20210910_131225_65_245c_3B_AnalyticMS_SR_8b_clip_scaled.tif\n",
      "Bandas multiplicadas salvas em E:/rasters/Amz/PSR\\20220316_130636_03\\20220316_130636_03_2449_3B_AnalyticMS_SR_8b_clip_scaled.tif\n",
      "Bandas multiplicadas salvas em E:/rasters/Amz/PSR\\20220316_130638_33\\20220316_130638_33_2449_3B_AnalyticMS_SR_8b_clip_scaled.tif\n",
      "Bandas multiplicadas salvas em E:/rasters/Amz/PSR\\20220316_140013_81\\20220316_140013_81_227c_3B_AnalyticMS_SR_8b_clip_scaled.tif\n",
      "Bandas multiplicadas salvas em E:/rasters/Amz/PSR\\20220316_140016_11\\20220316_140016_11_227c_3B_AnalyticMS_SR_8b_clip_scaled.tif\n",
      "Bandas multiplicadas salvas em E:/rasters/Amz/PSR\\20220320_140028_94\\20220320_140028_94_2274_3B_AnalyticMS_SR_8b_clip_scaled.tif\n",
      "Bandas multiplicadas salvas em E:/rasters/Amz/PSR\\20220320_140031_24\\20220320_140031_24_2274_3B_AnalyticMS_SR_8b_clip_scaled.tif\n",
      "Bandas multiplicadas salvas em E:/rasters/Amz/PSR\\20220322_130806_37\\20220322_130806_37_245a_3B_AnalyticMS_SR_8b_clip_scaled.tif\n",
      "Bandas multiplicadas salvas em E:/rasters/Amz/PSR\\20220322_130808_67\\20220322_130808_67_245a_3B_AnalyticMS_SR_8b_clip_scaled.tif\n",
      "Bandas multiplicadas salvas em E:/rasters/Amz/PSR\\20220322_134051_07\\20220322_134051_07_2481_3B_AnalyticMS_SR_8b_clip_scaled.tif\n",
      "Bandas multiplicadas salvas em E:/rasters/Amz/PSR\\20220322_134053_40\\20220322_134053_40_2481_3B_AnalyticMS_SR_8b_clip_scaled.tif\n",
      "Processamento concluído!\n"
     ]
    }
   ],
   "source": [
    "import glob\n",
    "import os\n",
    "import rasterio\n",
    "import numpy as np\n",
    "\n",
    "# Diretório raiz que contém as pastas\n",
    "diretorio_raiz = 'E:/rasters/Amz/PSR'\n",
    "\n",
    "# Padrão do nome dos arquivos a serem processados\n",
    "padrao_nome_arquivo = '*_AnalyticMS_SR_8b_clip.tif'\n",
    "\n",
    "# Percorrendo todas as pastas e arquivos correspondentes\n",
    "for pasta in glob.glob(os.path.join(diretorio_raiz, '*')):\n",
    "    arquivos_clip = glob.glob(os.path.join(pasta, padrao_nome_arquivo))\n",
    "\n",
    "    # Processando cada arquivo de clip na pasta\n",
    "    for arquivo_clip in arquivos_clip:\n",
    "        # Carregando as bandas da imagem de satélite\n",
    "        bandas = []\n",
    "        with rasterio.open(arquivo_clip) as src:\n",
    "            for i in range(src.count):\n",
    "                banda = src.read(i + 1).astype(np.float32)  # Converter para ponto flutuante\n",
    "                banda_multiplicada = banda / 10000  # divisáo por 10000\n",
    "                bandas.append(banda_multiplicada)\n",
    "\n",
    "        # Obtendo os metadados de uma das bandas\n",
    "        with rasterio.open(arquivo_clip) as src:\n",
    "            profile = src.profile.copy()\n",
    "\n",
    "        # Atualizando o tipo de dados para ponto flutuante\n",
    "        profile.update(dtype=rasterio.float32)\n",
    "\n",
    "        # Atualizando o número de bandas no perfil\n",
    "        profile.update(count=len(bandas))\n",
    "\n",
    "        # Gerando o nome do arquivo de saída\n",
    "        nome_arquivo_saida = os.path.splitext(arquivo_clip)[0] + '_scaled.tif'\n",
    "\n",
    "        # Salvando as bandas multiplicadas em um único arquivo\n",
    "        with rasterio.open(nome_arquivo_saida, 'w', **profile) as dst:\n",
    "            for i, banda_multiplicada in enumerate(bandas):\n",
    "                nome_banda = f'banda_{i+1}_scaled'\n",
    "                dst.write(banda_multiplicada.astype(rasterio.float32), i + 1)\n",
    "                dst.set_band_description(i + 1, nome_banda)\n",
    "\n",
    "        print(f\"Bandas divididas salvas em {nome_arquivo_saida}\")\n",
    "\n",
    "print(\"Processamento concluído!\")\n"
   ]
  },
  {
   "cell_type": "code",
   "execution_count": null,
   "id": "9b1e6d8f",
   "metadata": {},
   "outputs": [],
   "source": []
  }
 ],
 "metadata": {
  "kernelspec": {
   "display_name": "Python 3 (ipykernel)",
   "language": "python",
   "name": "python3"
  },
  "language_info": {
   "codemirror_mode": {
    "name": "ipython",
    "version": 3
   },
   "file_extension": ".py",
   "mimetype": "text/x-python",
   "name": "python",
   "nbconvert_exporter": "python",
   "pygments_lexer": "ipython3",
   "version": "3.11.3"
  }
 },
 "nbformat": 4,
 "nbformat_minor": 5
}
